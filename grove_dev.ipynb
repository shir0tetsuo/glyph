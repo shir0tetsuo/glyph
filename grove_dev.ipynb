{
 "cells": [
  {
   "cell_type": "code",
   "execution_count": 1,
   "metadata": {},
   "outputs": [],
   "source": [
    "import discord"
   ]
  },
  {
   "cell_type": "code",
   "execution_count": null,
   "metadata": {},
   "outputs": [],
   "source": [
    "# general idea\n",
    "import discord\n",
    "from discord.ext import commands\n",
    "import matplotlib.pyplot as plt\n",
    "import io  # For in-memory file handling\n",
    "import os\n",
    "\n",
    "import Components\n",
    "import Components.loaders\n",
    "import Components.generators\n",
    "\n",
    "# ... (your existing import and function definitions from generators.py etc.)\n",
    "\n",
    "bot = commands.Bot(command_prefix=\"!\", intents=discord.Intents.all())  # or appropriate intents\n",
    "\n",
    "@bot.command(name=\"generate_plot\", description=\"Generates and sends a plot.\")\n",
    "async def generate_plot_command(ctx, seed: int = 42):  # Example seed parameter\n",
    "\n",
    "    # 1. Generate the plot (using your existing functions)\n",
    "    # Example (adapt to your needs):\n",
    "    heightmap = Components.generators.generate_array(seed=seed)\n",
    "    glyphs = [...] # Your glyphs\n",
    "    plt = Components.generators.create_heatmap_with_symbols(\n",
    "            heightmap, glyphs, seed=seed, font_path=...,\n",
    "            save=False, cmap=..., custom_cmap=...,\n",
    "            # ...other parameters\n",
    "        )\n",
    "\n",
    "\n",
    "    # 2. Save the plot to an in-memory buffer\n",
    "    with io.BytesIO() as image_binary:\n",
    "        plt.savefig(image_binary, format='png')\n",
    "        image_binary.seek(0)  # Reset the buffer to the beginning\n",
    "\n",
    "        # 3. Send the plot as a file in an ephemeral message \n",
    "        #(only visible to the user who invoked the command)\n",
    "        await ctx.respond(file=discord.File(image_binary, \"plot.png\"), ephemeral=True)\n",
    "    \n",
    "    plt.close() # Close the plot to free resources\n",
    "\n",
    "with open('.token', 'r') as file:\n",
    "    token = file.read()\n",
    "\n",
    "# Run the bot (replace \"YOUR_BOT_TOKEN\" with your actual token)\n",
    "bot.run(token)\n",
    "\n",
    "\n"
   ]
  }
 ],
 "metadata": {
  "kernelspec": {
   "display_name": "venv",
   "language": "python",
   "name": "python3"
  },
  "language_info": {
   "codemirror_mode": {
    "name": "ipython",
    "version": 3
   },
   "file_extension": ".py",
   "mimetype": "text/x-python",
   "name": "python",
   "nbconvert_exporter": "python",
   "pygments_lexer": "ipython3",
   "version": "3.12.3"
  }
 },
 "nbformat": 4,
 "nbformat_minor": 2
}
